{
 "cells": [
  {
   "cell_type": "code",
   "execution_count": 1,
   "metadata": {},
   "outputs": [
    {
     "name": "stderr",
     "output_type": "stream",
     "text": [
      "WARNING: leap-second auto-update failed due to the following exception: RuntimeError('Cache is locked after 5.01 s. This may indicate an astropy bug or that kill -9 was used. If you want to unlock the cache remove the directory /home/mkovacevich/.astropy/cache/download/py3/lock.') [astropy.time.core]\n",
      "/home/mkovacevich/py3venv/lib/python3.7/site-packages/pandas/compat/__init__.py:120: UserWarning: Could not import the lzma module. Your installed Python is incomplete. Attempting to use lzma compression will result in a RuntimeError.\n",
      "  warnings.warn(msg)\n"
     ]
    },
    {
     "name": "stdout",
     "output_type": "stream",
     "text": [
      "Setting up Analysis for:\n",
      "MESC_2010_2016\n",
      "Setting up MESC_2010_2016...\n",
      "Reading /data/ana/analyses/mese_cascades/version-001-p02/IC86_2013_MC.npy ...\n",
      "Reading /data/ana/analyses/mese_cascades/version-001-p02/IC79_exp.npy ...\n",
      "Reading /data/ana/analyses/mese_cascades/version-001-p02/IC86_2011_exp.npy ...\n",
      "Reading /data/ana/analyses/mese_cascades/version-001-p02/IC86_2012_exp.npy ...\n",
      "Reading /data/ana/analyses/mese_cascades/version-001-p02/IC86_2013_exp.npy ...\n",
      "Reading /data/ana/analyses/mese_cascades/version-001-p02/IC86_2014_exp.npy ...\n",
      "Reading /data/ana/analyses/mese_cascades/version-001-p02/IC86_2015_exp.npy ...\n",
      "Reading /data/ana/analyses/mese_cascades/version-001-p02/IC86_2016_exp.npy ...\n",
      "Reading /data/ana/analyses/mese_cascades/version-001-p02/GRL/IC79_exp.npy ...\n",
      "Reading /data/ana/analyses/mese_cascades/version-001-p02/GRL/IC86_2011_exp.npy ...\n",
      "Reading /data/ana/analyses/mese_cascades/version-001-p02/GRL/IC86_2012_exp.npy ...\n",
      "Reading /data/ana/analyses/mese_cascades/version-001-p02/GRL/IC86_2013_exp.npy ...\n",
      "Reading /data/ana/analyses/mese_cascades/version-001-p02/GRL/IC86_2014_exp.npy ...\n",
      "Reading /data/ana/analyses/mese_cascades/version-001-p02/GRL/IC86_2015_exp.npy ...\n",
      "Reading /data/ana/analyses/mese_cascades/version-001-p02/GRL/IC86_2016_exp.npy ...\n",
      "<- /data/user/mkovacevich/FRB_analysis/cascades_ana/MESC_2010_2016.subanalysis.version-001-p02.npy    \n",
      "Done.\n"
     ]
    }
   ],
   "source": [
    "'''\n",
    "Programmer: Mike Kovacevich\n",
    "Last edited: 12/10/20\n",
    "E-mail: mgk56@drexel.edu\n",
    "\n",
    "Stacking sensitivity for different time windows and different gamma (spectral indices). Gamma will range from 2-3 and the time windows will range from 10^(-2) seconds to 10^5 seconds. Stacking sensitivity will be performed with Csky likelihood software.  \n",
    "'''\n",
    "\n",
    "import numpy as np\n",
    "import matplotlib.pyplot as plt\n",
    "import argparse\n",
    "import histlite as hl\n",
    "import csky as cy\n",
    "\n",
    "#Building/loading MESC data from analysis directory\n",
    "\n",
    "ana_dir = cy.utils.ensure_dir('/data/user/mkovacevich/FRB_analysis/cascades_ana')\n",
    "repo = cy.selections.Repository()\n",
    "ana = cy.get_analysis(repo, cy.selections.MESEDataSpecs.mesc_7yr, dir=ana_dir)"
   ]
  },
  {
   "cell_type": "code",
   "execution_count": 3,
   "metadata": {},
   "outputs": [
    {
     "name": "stdout",
     "output_type": "stream",
     "text": [
      "Starting Trials\n"
     ]
    }
   ],
   "source": [
    "#Directories to store the trials\n",
    "#trials_dir = cy.utils.ensure_dir('/data/user/mkovacevich/FRB_analysis/trials')\n",
    "#sig_dir = cy.utils.ensure_dir('{}/centered_dt_sig'.format(trials_dir))\n",
    "#bg_dir = cy.utils.ensure_dir('{}/centered_dt_bg'.format(trials_dir))\n",
    "\n",
    "#Calculating sensitivities, 3sigma at 90% and discovery potential as functions of different time windows for 1 FRB\n",
    "#The time windows will range from ~1 ms to 10^4 seconds (following previous times windows)\n",
    "cy.CONF['ana'] = ana\n",
    "cy.CONF['mp_cpus'] = 1.0\n",
    "\n",
    "#Ordinarily, dt and gamma are passed as arguments so they are not usually declared as constants, uncomment code below for testing/check purposes\n",
    "dt = 0.1\n",
    "gamma = 3.0\n",
    "\n",
    "#loading analysis object to get mjd of time data-set and events\n",
    "a = ana.anas[0]\n",
    "\n",
    "FRB_mjd_time = np.load('/data/user/mkovacevich/FRB_analysis/FRB_121102_mjd.npy', allow_pickle = True)\n",
    "\n",
    "FRB_ra_rad = np.load('/data/user/mkovacevich/FRB_analysis/FRB_121102_RA.npy', allow_pickle = True)\n",
    "\n",
    "FRB_dec_rad = np.load('/data/user/mkovacevich/FRB_analysis/FRB_121102_DEC.npy', allow_pickle = True)\n",
    "\n",
    "FRB_time_window = np.ones_like(FRB_ra_rad)*dt/86400.\n",
    "\n",
    "print(\"Starting Trials\")\n",
    "\n",
    "##### Defining functions to compute flux ######    \n",
    "def ndarray_to_TSD(trials):\n",
    "    return cy.dists.TSD(cy.utils.Arrays(trials))\n",
    "\n",
    "def tsd_merge(x):\n",
    "    ts_values = np.concatenate([xx[0] for xx in x])\n",
    "    n_zero = sum(xx[1] for xx in x)\n",
    "    return cy.dists.TSD(ts_values, n_zero=n_zero)\n",
    "\n",
    "def find_n_sig(beta=0.9, nsigma=None):\n",
    "    # get signal trials, background distribution, and trial runner\n",
    "    sig_trials = cy.bk.get_best(sig, 'n_sig')\n",
    "    #b = cy.bk.get_best(bg) #, 'gamma', gamma, 'dt', dt)\n",
    "    b = bg\n",
    "    src = cy.sources(FRB_ra_rad, FRB_dec_rad, mjd = FRB_mjd_time, sigma_t = np.zeros_like(FRB_ra_rad), t_100 = FRB_time_window)\n",
    "    conf = {'extended':True, 'space':\"ps\",'time':\"transient\",'sig':\"transient\",'flux': cy.hyp.PowerLawFlux(gamma)}\n",
    "    tr = cy.get_trial_runner(conf, src = src, ana=ana)\n",
    "    # determine ts threshold\n",
    "    if nsigma is not None:\n",
    "        ts = b.isf_nsigma(nsigma)\n",
    "    else:\n",
    "        ts = b.median()\n",
    "    # include background trials in calculation\n",
    "    trials = {0: tr.get_many_fits(10000)}\n",
    "    trials.update(sig_trials)\n",
    "    # get number of signal events\n",
    "    # (arguments prevent additional trials from being run)\n",
    "    result = tr.find_n_sig(ts, beta, max_batch_size=0, logging=False, trials=trials, n_bootstrap=1)\n",
    "    # return flux\n",
    "    return tr.to_E2dNdE(result, E0=1e5)"
   ]
  },
  {
   "cell_type": "code",
   "execution_count": 8,
   "metadata": {},
   "outputs": [
    {
     "name": "stdout",
     "output_type": "stream",
     "text": [
      "0.01\n",
      "50 files loaded.                                                                            \n",
      "1900 files loaded.                                                                                             \n",
      "Performing 10000 background trials using 5.0 cores:\n",
      "      10000/10000 trials complete.   \n",
      "sens = 0.1022024573252207\n",
      "0.1\n",
      "50 files loaded.                                                                           \n",
      "1900 files loaded.                                                                                            \n",
      "Performing 10000 background trials using 5.0 cores:\n",
      "      10000/10000 trials complete.   \n",
      "sens = 0.10288964969416188\n",
      "1.0\n",
      "50 files loaded.                                                                           \n",
      "1919 files loaded.                                                                                            \n",
      "Performing 10000 background trials using 5.0 cores:\n",
      "      10000/10000 trials complete.   \n",
      "sens = 0.10147733712055222\n",
      "10.0\n",
      "50 files loaded.                                                                            \n",
      "1900 files loaded.                                                                                             \n",
      "Performing 10000 background trials using 5.0 cores:\n",
      "      10000/10000 trials complete.   \n",
      "sens = 0.10409994869623888\n",
      "100.0\n",
      "50 files loaded.                                                                             \n",
      "1900 files loaded.                                                                                              \n",
      "Performing 10000 background trials using 5.0 cores:\n",
      "      10000/10000 trials complete.   \n",
      "sens = 0.10364179114981426\n",
      "1000.0\n",
      "50 files loaded.                                                                              \n",
      "1900 files loaded.                                                                                               \n",
      "Performing 10000 background trials using 5.0 cores:\n",
      "      10000/10000 trials complete.   \n",
      "sens = 0.10283596009470003\n",
      "10000.0\n",
      "50 files loaded.                                                                               \n",
      "1900 files loaded.                                                                                                \n",
      "Performing 10000 background trials using 5.0 cores:\n",
      "      10000/10000 trials complete.   \n",
      "sens = 0.10518114847407709\n",
      "100000.0\n",
      "50 files loaded.                                                                                \n",
      "1900 files loaded.                                                                                                 \n",
      "Performing 10000 background trials using 5.0 cores:\n",
      "      10000/10000 trials complete.   \n",
      "sens = 0.13998951756477343\n"
     ]
    }
   ],
   "source": [
    "time_windows = [0.01, 0.1, 1.0, 10.0, 100.0, 1000.0, 10000.0, 100000.0]\n",
    "FRB_121102_gamma_3_sens = []\n",
    "for i in time_windows:\n",
    "    print(i)\n",
    "    fluxs_sens = []\n",
    "    dt = i\n",
    "    FRB_time_window = np.ones_like(FRB_ra_rad)*dt/86400.\n",
    "    gamma = 3.0\n",
    "    bg = cy.bk.get_all(\n",
    "    '/data/user/mkovacevich/FRB_analysis/FRB_121102_trials/bg/dt/'+str(i)+'/',\n",
    "    'bg_trials_seed_*.0.npy',\n",
    "    pre_convert=lambda x: (x['ts'][x['ts'] > 0], np.sum(x['ts'] == 0)),\n",
    "    merge = tsd_merge,\n",
    "    log=True)\n",
    "    sig = cy.bk.get_all('/data/user/mkovacevich/FRB_analysis/FRB_121102_trials/sig/gamma/3.0/dt/'+str(i)+'/','sig*npy', merge=np.concatenate, post_convert=cy.utils.Arrays)\n",
    "    fluxs_sens = find_n_sig(beta=0.9)\n",
    "    FRB_121102_gamma_3_sens.append(fluxs_sens)\n",
    "    print('sens = ' + str(fluxs_sens))\n",
    "    "
   ]
  },
  {
   "cell_type": "code",
   "execution_count": 9,
   "metadata": {},
   "outputs": [
    {
     "name": "stdout",
     "output_type": "stream",
     "text": [
      "0.01\n",
      "50 files loaded.                                                                            \n",
      "1900 files loaded.                                                                                             \n",
      "Performing 10000 background trials using 5.0 cores:\n",
      "      10000/10000 trials complete.   \n",
      "sens = 0.6693072294260436\n",
      "0.1\n",
      "50 files loaded.                                                                           \n",
      "1900 files loaded.                                                                                            \n",
      "Performing 10000 background trials using 5.0 cores:\n",
      "      10000/10000 trials complete.   \n",
      "sens = 0.683422098207121\n",
      "1.0\n",
      "50 files loaded.                                                                           \n",
      "1900 files loaded.                                                                                            \n",
      "Performing 10000 background trials using 5.0 cores:\n",
      "      10000/10000 trials complete.   \n",
      "sens = 0.6847874235875997\n",
      "10.0\n",
      "50 files loaded.                                                                            \n",
      "1900 files loaded.                                                                                             \n",
      "Performing 10000 background trials using 5.0 cores:\n",
      "      10000/10000 trials complete.   \n",
      "sens = 0.6907809124658245\n",
      "100.0\n",
      "50 files loaded.                                                                             \n",
      "1900 files loaded.                                                                                              \n",
      "Performing 10000 background trials using 5.0 cores:\n",
      "      10000/10000 trials complete.   \n",
      "sens = 0.6757393554409874\n",
      "1000.0\n",
      "50 files loaded.                                                                              \n",
      "1900 files loaded.                                                                                               \n",
      "Performing 10000 background trials using 5.0 cores:\n",
      "      10000/10000 trials complete.   \n",
      "sens = 0.6634122296878958\n",
      "10000.0\n",
      "50 files loaded.                                                                               \n",
      "1900 files loaded.                                                                                                \n",
      "Performing 10000 background trials using 5.0 cores:\n",
      "      10000/10000 trials complete.   \n",
      "sens = 0.600709060951695\n",
      "100000.0\n",
      "50 files loaded.                                                                                \n",
      "1900 files loaded.                                                                                                 \n",
      "Performing 10000 background trials using 5.0 cores:\n",
      "      10000/10000 trials complete.   \n",
      "sens = 0.6732645434367118\n"
     ]
    }
   ],
   "source": [
    "time_windows = [0.01, 0.1, 1.0, 10.0, 100.0, 1000.0, 10000.0, 100000.0]\n",
    "FRB_121102_gamma_2_sens = []\n",
    "for i in time_windows:\n",
    "    print(i)\n",
    "    fluxs_sens = []\n",
    "    dt = i\n",
    "    FRB_time_window = np.ones_like(FRB_ra_rad)*dt/86400.\n",
    "    gamma = 2.0\n",
    "    bg = cy.bk.get_all(\n",
    "    '/data/user/mkovacevich/FRB_analysis/FRB_121102_trials/bg/dt/'+str(i)+'/',\n",
    "    'bg_trials_seed_*.0.npy',\n",
    "    pre_convert=lambda x: (x['ts'][x['ts'] > 0], np.sum(x['ts'] == 0)),\n",
    "    merge = tsd_merge,\n",
    "    log=True)\n",
    "    sig = cy.bk.get_all('/data/user/mkovacevich/FRB_analysis/FRB_121102_trials/sig/gamma/2.0/dt/'+str(i)+'/','sig*npy', merge=np.concatenate, post_convert=cy.utils.Arrays)\n",
    "    fluxs_sens = find_n_sig(beta=0.9)\n",
    "    FRB_121102_gamma_2_sens.append(fluxs_sens)\n",
    "    print('sens = ' + str(fluxs_sens))"
   ]
  },
  {
   "cell_type": "code",
   "execution_count": 10,
   "metadata": {},
   "outputs": [],
   "source": [
    "catalog_stacked_sens_gamma_2 = [0.42776688714680017, 0.42811340366870104, 0.4345044973793576, 0.4324263955864112, 0.43223290118101687, 0.4245982609723475, 0.3998979445747711,0.3985009152674313]\n",
    "catalog_stacked_sens_gamma_3 = [0.10589442849608482, 0.1077493092441084, 0.10652667073322919, 0.10898243968659185, 0.10796400059738795, 0.1055303365847919, 0.11013134071451022, 0.14649931742425515]\n",
    "\n",
    "Num_FRBs = 22\n",
    "sens_gamma_3_perFRB = [x / Num_FRBs for x in catalog_stacked_sens_gamma_3]\n",
    "sens_gamma_2_perFRB = [x / Num_FRBs for x in catalog_stacked_sens_gamma_2]\n",
    "\n",
    "Num_FRB_121102 = 26\n",
    "sens_gamma_3_perFRB121102 = [x / Num_FRB_121102 for x in FRB_121102_gamma_3_sens]\n",
    "sens_gamma_2_perFRB121102 = [x / Num_FRB_121102 for x in FRB_121102_gamma_2_sens]\n",
    "\n",
    "gamma_2_sens_ratio = np.divide(sens_gamma_2_perFRB, sens_gamma_2_perFRB121102)\n",
    "gamma_3_sens_ratio = np.divide(sens_gamma_3_perFRB, sens_gamma_3_perFRB121102)"
   ]
  },
  {
   "cell_type": "code",
   "execution_count": 1,
   "metadata": {},
   "outputs": [
    {
     "ename": "NameError",
     "evalue": "name 'plt' is not defined",
     "output_type": "error",
     "traceback": [
      "\u001b[0;31m---------------------------------------------------------------------------\u001b[0m",
      "\u001b[0;31mNameError\u001b[0m                                 Traceback (most recent call last)",
      "\u001b[0;32m<ipython-input-1-3d50eb093a42>\u001b[0m in \u001b[0;36m<module>\u001b[0;34m\u001b[0m\n\u001b[0;32m----> 1\u001b[0;31m \u001b[0mplt\u001b[0m\u001b[0;34m.\u001b[0m\u001b[0mrcParams\u001b[0m\u001b[0;34m.\u001b[0m\u001b[0mupdate\u001b[0m\u001b[0;34m(\u001b[0m\u001b[0;34m{\u001b[0m\u001b[0;34m'font.size'\u001b[0m\u001b[0;34m:\u001b[0m \u001b[0;36m13\u001b[0m\u001b[0;34m}\u001b[0m\u001b[0;34m)\u001b[0m\u001b[0;34m\u001b[0m\u001b[0;34m\u001b[0m\u001b[0m\n\u001b[0m\u001b[1;32m      2\u001b[0m \u001b[0mfig\u001b[0m\u001b[0;34m,\u001b[0m \u001b[0;34m(\u001b[0m\u001b[0max1\u001b[0m\u001b[0;34m,\u001b[0m \u001b[0max2\u001b[0m\u001b[0;34m)\u001b[0m \u001b[0;34m=\u001b[0m \u001b[0mplt\u001b[0m\u001b[0;34m.\u001b[0m\u001b[0msubplots\u001b[0m\u001b[0;34m(\u001b[0m\u001b[0;36m2\u001b[0m\u001b[0;34m,\u001b[0m \u001b[0mfigsize\u001b[0m\u001b[0;34m=\u001b[0m\u001b[0;34m(\u001b[0m\u001b[0;36m12\u001b[0m\u001b[0;34m,\u001b[0m\u001b[0;36m9\u001b[0m\u001b[0;34m)\u001b[0m\u001b[0;34m,\u001b[0m \u001b[0mgridspec_kw\u001b[0m \u001b[0;34m=\u001b[0m \u001b[0;34m{\u001b[0m\u001b[0;34m'height_ratios'\u001b[0m\u001b[0;34m:\u001b[0m\u001b[0;34m[\u001b[0m\u001b[0;36m3\u001b[0m\u001b[0;34m,\u001b[0m \u001b[0;36m1\u001b[0m\u001b[0;34m]\u001b[0m\u001b[0;34m}\u001b[0m\u001b[0;34m,\u001b[0m \u001b[0msharex\u001b[0m\u001b[0;34m=\u001b[0m\u001b[0;32mTrue\u001b[0m\u001b[0;34m)\u001b[0m\u001b[0;34m\u001b[0m\u001b[0;34m\u001b[0m\u001b[0m\n\u001b[1;32m      3\u001b[0m \u001b[0;31m#ax1.subplot(2, 1, 1)\u001b[0m\u001b[0;34m\u001b[0m\u001b[0;34m\u001b[0m\u001b[0;34m\u001b[0m\u001b[0m\n\u001b[1;32m      4\u001b[0m \u001b[0max1\u001b[0m\u001b[0;34m.\u001b[0m\u001b[0mplot\u001b[0m\u001b[0;34m(\u001b[0m\u001b[0mtime_windows\u001b[0m\u001b[0;34m,\u001b[0m \u001b[0msens_gamma_3_perFRB\u001b[0m\u001b[0;34m,\u001b[0m \u001b[0mcolor\u001b[0m \u001b[0;34m=\u001b[0m \u001b[0;34m'navy'\u001b[0m\u001b[0;34m,\u001b[0m \u001b[0mlabel\u001b[0m \u001b[0;34m=\u001b[0m \u001b[0;34m'Catalog Sensitvity ($\\gamma$ = 3)'\u001b[0m\u001b[0;34m)\u001b[0m\u001b[0;34m\u001b[0m\u001b[0;34m\u001b[0m\u001b[0m\n\u001b[1;32m      5\u001b[0m \u001b[0max1\u001b[0m\u001b[0;34m.\u001b[0m\u001b[0mplot\u001b[0m\u001b[0;34m(\u001b[0m\u001b[0mtime_windows\u001b[0m\u001b[0;34m,\u001b[0m \u001b[0msens_gamma_3_perFRB121102\u001b[0m\u001b[0;34m,\u001b[0m  \u001b[0mcolor\u001b[0m \u001b[0;34m=\u001b[0m \u001b[0;34m'navy'\u001b[0m\u001b[0;34m,\u001b[0m \u001b[0mlinestyle\u001b[0m\u001b[0;34m=\u001b[0m\u001b[0;34m'--'\u001b[0m\u001b[0;34m,\u001b[0m \u001b[0mlabel\u001b[0m \u001b[0;34m=\u001b[0m \u001b[0;34mr'FRB121102 Sensitivity ($\\gamma$ = 3)'\u001b[0m\u001b[0;34m)\u001b[0m\u001b[0;34m\u001b[0m\u001b[0;34m\u001b[0m\u001b[0m\n",
      "\u001b[0;31mNameError\u001b[0m: name 'plt' is not defined"
     ]
    }
   ],
   "source": [
    "plt.rcParams.update({'font.size': 13})\n",
    "fig, (ax1, ax2) = plt.subplots(2, figsize=(12,9), gridspec_kw = {'height_ratios':[3, 1]}, sharex=True)\n",
    "#ax1.subplot(2, 1, 1)\n",
    "ax1.plot(time_windows, sens_gamma_3_perFRB, color = 'navy', label = 'Catalog Sensitvity ($\\gamma$ = 3)')\n",
    "ax1.plot(time_windows, sens_gamma_3_perFRB121102,  color = 'navy', linestyle='--', label = r'FRB121102 Sensitivity ($\\gamma$ = 3)')\n",
    "ax1.plot(time_windows, sens_gamma_2_perFRB,  color = 'blue', label = r'Catalog Sensitvity ($\\gamma$ = 2)')\n",
    "ax1.plot(time_windows, sens_gamma_2_perFRB121102,  color = 'blue', linestyle='--', label = r'FRB121102 Sensitivity ($\\gamma$ = 2)')\n",
    "\n",
    "\n",
    "ax1.set_ylim(.001, 0.1)\n",
    "ax1.set_yscale('log')\n",
    "ax1.set_xscale('log')\n",
    "\n",
    "ax1.set_ylabel(r'$E^{2}$dN/dE per FRB @ 100 TeV (GeV/$cm^{2}$)')\n",
    "ax1.grid(True)\n",
    "ax1.set_title(r'$E^{-\\gamma}$ Stacking Sensitivity vs. $\\Delta$T')\n",
    "ax1.patch.set_facecolor('white')\n",
    "ax1.legend(bbox_to_anchor=(1.05, 1))\n",
    "#plt.subplots_adjust(hspace = 3.0)\n",
    "\n",
    "#ax2.subplot(2, 1, 2)\n",
    "#ax2.subplots(figsize=(10,5))\n",
    "ax2.set_ylim(.1, 10.)\n",
    "ax2.plot(time_windows, gamma_3_sens_ratio, color = 'navy',label = '$\\gamma$ = 3')\n",
    "ax2.plot(time_windows, gamma_2_sens_ratio, color = 'blue',label = '$\\gamma$ = 2')\n",
    "\n",
    "ax2.set_xscale('log')\n",
    "ax2.set_yscale('log')\n",
    "ax2.axhline(y=1., color = 'black')\n",
    "ax2.grid()\n",
    "ax2.set_ylabel('Catalog / FRB121102')\n",
    "ax2.set_xlabel(r'$\\Delta$T (seconds)' )\n",
    "ax2.legend(bbox_to_anchor=(1.05, 1), loc = 2)\n",
    "fig.patch.set_facecolor('white')\n",
    "\n",
    "fig.savefig('/home/mkovacevich/public_html/plots/Catalog_Burst_StackingSensitivityComparisons.png', bbox_inches='tight')\n",
    "#plt.subplots_adjust(hspace = 3.0)"
   ]
  },
  {
   "cell_type": "code",
   "execution_count": 13,
   "metadata": {},
   "outputs": [],
   "source": [
    "gamma_2ratio = np.divide(sens_gamma_2_perFRB[1], sens_gamma_2_perFRB121102[1])\n",
    "gamma_3ratio = np.divide(sens_gamma_3_perFRB[1], sens_gamma_3_perFRB121102[1])"
   ]
  },
  {
   "cell_type": "code",
   "execution_count": 14,
   "metadata": {},
   "outputs": [
    {
     "data": {
      "text/plain": [
       "0.74032169235242"
      ]
     },
     "execution_count": 14,
     "metadata": {},
     "output_type": "execute_result"
    }
   ],
   "source": [
    "gamma_2ratio"
   ]
  },
  {
   "cell_type": "code",
   "execution_count": 15,
   "metadata": {},
   "outputs": [
    {
     "data": {
      "text/plain": [
       "1.2376375380959497"
      ]
     },
     "execution_count": 15,
     "metadata": {},
     "output_type": "execute_result"
    }
   ],
   "source": [
    "gamma_3ratio"
   ]
  },
  {
   "cell_type": "code",
   "execution_count": 4,
   "metadata": {},
   "outputs": [],
   "source": [
    "FRB_mjd_time = np.load('/data/user/mkovacevich/FRB_analysis/FRB_121102_mjd.npy', allow_pickle = True)"
   ]
  },
  {
   "cell_type": "code",
   "execution_count": 5,
   "metadata": {},
   "outputs": [
    {
     "data": {
      "text/plain": [
       "array([2.62638889e-04, 6.62418985e-04, 6.71053240e-04, 1.95901620e-03,\n",
       "       2.15543981e-03, 4.79667824e-03, 4.81780092e-03, 5.10737269e-03,\n",
       "       6.58459491e-03, 6.62278935e-03, 1.52957060e-02, 4.28488773e-02,\n",
       "       1.01484207e+00, 1.03642049e+00, 1.97090839e+00, 1.97228339e+00,\n",
       "       4.80421498e+00, 4.95792828e+00, 6.09164524e+00, 9.93583681e+00,\n",
       "       1.59489196e+01, 1.87422196e+01, 1.63607759e+02, 2.59539394e+02,\n",
       "       9.26462679e+02])"
      ]
     },
     "execution_count": 5,
     "metadata": {},
     "output_type": "execute_result"
    }
   ],
   "source": [
    "np.sort(np.diff(np.sort(FRB_mjd_time)))"
   ]
  },
  {
   "cell_type": "code",
   "execution_count": null,
   "metadata": {},
   "outputs": [],
   "source": []
  }
 ],
 "metadata": {
  "kernelspec": {
   "display_name": "Python 3",
   "language": "python",
   "name": "python3"
  },
  "language_info": {
   "codemirror_mode": {
    "name": "ipython",
    "version": 3
   },
   "file_extension": ".py",
   "mimetype": "text/x-python",
   "name": "python",
   "nbconvert_exporter": "python",
   "pygments_lexer": "ipython3",
   "version": "3.7.5"
  }
 },
 "nbformat": 4,
 "nbformat_minor": 4
}
