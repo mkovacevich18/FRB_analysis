{
 "cells": [
  {
   "cell_type": "code",
   "execution_count": 22,
   "metadata": {},
   "outputs": [],
   "source": [
    "import numpy as np\n",
    "import matplotlib.pyplot as plt\n",
    "from scipy import stats\n",
    "import argparse\n",
    "import histlite as hl\n",
    "import csky as cy\n",
    "from numpy import random"
   ]
  },
  {
   "cell_type": "code",
   "execution_count": 23,
   "metadata": {},
   "outputs": [
    {
     "name": "stdout",
     "output_type": "stream",
     "text": [
      "Setting up Analysis for:\n",
      "MESC_2010_2016\n",
      "Setting up MESC_2010_2016...\n",
      "Reading /data/ana/analyses/mese_cascades/version-001-p02/IC86_2013_MC.npy ...\n",
      "Reading /data/ana/analyses/mese_cascades/version-001-p02/IC79_exp.npy ...\n",
      "Reading /data/ana/analyses/mese_cascades/version-001-p02/IC86_2011_exp.npy ...\n",
      "Reading /data/ana/analyses/mese_cascades/version-001-p02/IC86_2012_exp.npy ...\n",
      "Reading /data/ana/analyses/mese_cascades/version-001-p02/IC86_2013_exp.npy ...\n",
      "Reading /data/ana/analyses/mese_cascades/version-001-p02/IC86_2014_exp.npy ...\n",
      "Reading /data/ana/analyses/mese_cascades/version-001-p02/IC86_2015_exp.npy ...\n",
      "Reading /data/ana/analyses/mese_cascades/version-001-p02/IC86_2016_exp.npy ...\n",
      "Reading /data/ana/analyses/mese_cascades/version-001-p02/GRL/IC79_exp.npy ...\n",
      "Reading /data/ana/analyses/mese_cascades/version-001-p02/GRL/IC86_2011_exp.npy ...\n",
      "Reading /data/ana/analyses/mese_cascades/version-001-p02/GRL/IC86_2012_exp.npy ...\n",
      "Reading /data/ana/analyses/mese_cascades/version-001-p02/GRL/IC86_2013_exp.npy ...\n",
      "Reading /data/ana/analyses/mese_cascades/version-001-p02/GRL/IC86_2014_exp.npy ...\n",
      "Reading /data/ana/analyses/mese_cascades/version-001-p02/GRL/IC86_2015_exp.npy ...\n",
      "Reading /data/ana/analyses/mese_cascades/version-001-p02/GRL/IC86_2016_exp.npy ...\n",
      "<- /data/user/mkovacevich/FRB_analysis/cascades_ana/MESC_2010_2016.subanalysis.version-001-p02.npy    \n",
      "Done.\n"
     ]
    }
   ],
   "source": [
    "#Building/loading MESC data from analysis directory\n",
    "ana_dir = cy.utils.ensure_dir('/data/user/mkovacevich/FRB_analysis/cascades_ana')\n",
    "repo = cy.selections.Repository()\n",
    "ana = cy.analysis.Analysis(repo, cy.selections.MESEDataSpecs.mesc_7yr, dir=ana_dir)"
   ]
  },
  {
   "cell_type": "code",
   "execution_count": 11,
   "metadata": {},
   "outputs": [],
   "source": [
    "a = ana.anas[0]\n",
    "min_mjd = a.mjd_min\n",
    "max_mjd = a.mjd_max"
   ]
  },
  {
   "cell_type": "code",
   "execution_count": 21,
   "metadata": {},
   "outputs": [],
   "source": [
    "#generating the isotropic sources\n",
    "ten_FRBS_MJD = random.uniform(min_mjd, max_mjd, 10)\n",
    "ten_FRBS_RA_rad = random.uniform(0, 2*np.pi, 10)\n",
    "ten_FRBS_DEC_rad = random.uniform(-1, np.deg2rad(5), 10)\n",
    "\n",
    "np.save('./Ten_FRBS_MJD.npy',ten_FRBS_MJD, allow_pickle=True)\n",
    "np.save('./Ten_FRBS_RA.npy',ten_FRBS_RA_rad, allow_pickle=True)\n",
    "np.save('./Ten_FRBS_DEC.npy',ten_FRBS_DEC_rad, allow_pickle=True)\n",
    "\n",
    "\n",
    "\n",
    "one_hundred_FRBS_MJD = random.uniform(min_mjd, max_mjd, 100)\n",
    "one_hundred_FRBS_RA_rad = random.uniform(0, 2*np.pi, 100)\n",
    "one_hundred_FRBS_DEC_rad = random.uniform(-1, np.deg2rad(5), 100)\n",
    "\n",
    "np.save('./One_hundred_FRBS_MJD.npy',one_hundred_FRBS_MJD, allow_pickle=True)\n",
    "np.save('./One_hundred_FRBS_RA.npy',one_hundred_FRBS_RA_rad, allow_pickle=True)\n",
    "np.save('./One_hundred_FRBS_DEC.npy',one_hundred_FRBS_DEC_rad, allow_pickle=True)\n",
    "\n",
    "\n",
    "\n",
    "one_thousand_FRBS_MJD = random.uniform(min_mjd, max_mjd, 1000)\n",
    "one_thousand_FRBS_RA_rad = random.uniform(0, 2*np.pi, 1000)\n",
    "one_thousand_FRBS_DEC_rad = random.uniform(-1, np.deg2rad(5), 1000)\n",
    "\n",
    "np.save('./One_thousand_FRBS_MJD.npy',one_thousand_FRBS_MJD, allow_pickle=True)\n",
    "np.save('./One_thousand_FRBS_RA.npy',one_thousand_FRBS_RA_rad, allow_pickle=True)\n",
    "np.save('./One_thousand_FRBS_DEC.npy',one_thousand_FRBS_DEC_rad, allow_pickle=True)\n"
   ]
  },
  {
   "cell_type": "code",
   "execution_count": 24,
   "metadata": {},
   "outputs": [],
   "source": [
    "FRB_dec_rad = np.load('/data/user/mkovacevich/FRB_analysis/Ten_FRBS_DEC.npy', allow_pickle = True)"
   ]
  },
  {
   "cell_type": "code",
   "execution_count": 25,
   "metadata": {},
   "outputs": [
    {
     "data": {
      "text/plain": [
       "array([-0.77379345, -0.48177046, -0.33668837, -0.31815763, -0.11234737,\n",
       "       -0.39162317, -0.33722154, -0.13360574, -0.46050766, -0.50560913])"
      ]
     },
     "execution_count": 25,
     "metadata": {},
     "output_type": "execute_result"
    }
   ],
   "source": [
    "FRB_dec_rad"
   ]
  },
  {
   "cell_type": "code",
   "execution_count": null,
   "metadata": {},
   "outputs": [],
   "source": []
  }
 ],
 "metadata": {
  "kernelspec": {
   "display_name": "Python 3",
   "language": "python",
   "name": "python3"
  },
  "language_info": {
   "codemirror_mode": {
    "name": "ipython",
    "version": 3
   },
   "file_extension": ".py",
   "mimetype": "text/x-python",
   "name": "python",
   "nbconvert_exporter": "python",
   "pygments_lexer": "ipython3",
   "version": "3.7.5"
  }
 },
 "nbformat": 4,
 "nbformat_minor": 4
}
