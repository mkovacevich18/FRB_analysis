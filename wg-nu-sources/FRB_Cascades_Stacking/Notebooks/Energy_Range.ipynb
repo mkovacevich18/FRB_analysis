{
 "cells": [
  {
   "cell_type": "code",
   "execution_count": 2,
   "metadata": {},
   "outputs": [
    {
     "name": "stdout",
     "output_type": "stream",
     "text": [
      "Setting up Analysis for:\n",
      "MESC_2010_2016\n",
      "Setting up MESC_2010_2016...\n",
      "Reading /data/ana/analyses/mese_cascades/version-001-p02/IC86_2013_MC.npy ...\n",
      "Reading /data/ana/analyses/mese_cascades/version-001-p02/IC79_exp.npy ...\n",
      "Reading /data/ana/analyses/mese_cascades/version-001-p02/IC86_2011_exp.npy ...\n",
      "Reading /data/ana/analyses/mese_cascades/version-001-p02/IC86_2012_exp.npy ...\n",
      "Reading /data/ana/analyses/mese_cascades/version-001-p02/IC86_2013_exp.npy ...\n",
      "Reading /data/ana/analyses/mese_cascades/version-001-p02/IC86_2014_exp.npy ...\n",
      "Reading /data/ana/analyses/mese_cascades/version-001-p02/IC86_2015_exp.npy ...\n",
      "Reading /data/ana/analyses/mese_cascades/version-001-p02/IC86_2016_exp.npy ...\n",
      "Reading /data/ana/analyses/mese_cascades/version-001-p02/GRL/IC79_exp.npy ...\n",
      "Reading /data/ana/analyses/mese_cascades/version-001-p02/GRL/IC86_2011_exp.npy ...\n",
      "Reading /data/ana/analyses/mese_cascades/version-001-p02/GRL/IC86_2012_exp.npy ...\n",
      "Reading /data/ana/analyses/mese_cascades/version-001-p02/GRL/IC86_2013_exp.npy ...\n",
      "Reading /data/ana/analyses/mese_cascades/version-001-p02/GRL/IC86_2014_exp.npy ...\n",
      "Reading /data/ana/analyses/mese_cascades/version-001-p02/GRL/IC86_2015_exp.npy ...\n",
      "Reading /data/ana/analyses/mese_cascades/version-001-p02/GRL/IC86_2016_exp.npy ...\n",
      "<- /data/user/mkovacevich/FRB_analysis/cascades_ana/MESC_2010_2016.subanalysis.version-001-p02.npy    \n",
      "Done.\n"
     ]
    }
   ],
   "source": [
    "'''\n",
    "Programmer: Mike Kovacevich\n",
    "Last edited: 12/10/20\n",
    "E-mail: mgk56@drexel.edu\n",
    "\n",
    "Stacking sensitivity for different time windows and different gamma (spectral indices). Gamma will range from 2-3 and the time windows will range from 10^(-2) seconds to 10^5 seconds. Stacking sensitivity will be performed with Csky likelihood software.  \n",
    "'''\n",
    "\n",
    "import numpy as np\n",
    "import matplotlib.pyplot as plt\n",
    "from scipy import stats\n",
    "import argparse\n",
    "import histlite as hl\n",
    "import csky as cy\n",
    "\n",
    "#Building/loading MESC data from analysis directory\n",
    "\n",
    "ana_dir = cy.utils.ensure_dir('/data/user/mkovacevich/FRB_analysis/cascades_ana')\n",
    "repo = cy.selections.Repository()\n",
    "ana = cy.get_analysis(repo, cy.selections.MESEDataSpecs.mesc_7yr, dir=ana_dir)"
   ]
  },
  {
   "cell_type": "code",
   "execution_count": 11,
   "metadata": {},
   "outputs": [
    {
     "data": {
      "text/plain": [
       "1675004.8"
      ]
     },
     "execution_count": 11,
     "metadata": {},
     "output_type": "execute_result"
    }
   ],
   "source": [
    "a = ana.anas[0]\n",
    "max(a.data['energy'])"
   ]
  },
  {
   "cell_type": "code",
   "execution_count": 3,
   "metadata": {},
   "outputs": [],
   "source": [
    "#Calculating sensitivities, 3sigma at 90% and discovery potential as functions of different time windows for 1 FRB\n",
    "#The time windows will range from ~1 ms to 10^4 seconds (following previous times windows)\n",
    "cy.CONF['ana'] = ana\n",
    "cy.CONF['mp_cpus'] = 12.0\n",
    "\n",
    "#Ordinarily, dt and gamma are passed as arguments so they are not usually declared as constants, uncomment code below for testing/check purposes\n",
    "#dt = 0.1\n",
    "#gamma = 3.0\n",
    "\n",
    "#loading analysis object to get mjd of time data-set and events\n",
    "a = ana.anas[0]\n",
    "\n",
    "#good_indices represents an array that tracks the indices of FRB events that fall within livetime of MESC 7 yr\n",
    "FRB_mjd_time = [57760.83732799769, 57547.161818148146, 57488.35670925926, 57464.37542280093, 57389.35323349537, 57386.67762181713, 57362.262416412035, 57241.74578506944, 57183.22707634259, 57130.18688260417, 57068.86228835648, 56791.718183564815, 56600.752907407405, 56502.376286921295, 56471.165279837965, 56469.62221957176, 56202.5481300463, 55953.341223668984, 55745.79144221065, 55738.89811894676, 55704.629394675925, 55612.080417777775]\n",
    "\n",
    "FRB_ra_rad = [2.979102500229121, 1.992642407001926, 2.2750366799746087, 2.0673424989872835, 5.928883469024737, 2.534392606820966, 5.067563483165536, 5.945115031068284, 2.811899957888065, 1.9050268785518107, 4.788485335771643, 5.9082885838512045, 1.7634806762150708, 3.5838590860451562, 2.369458992507502, 4.306948995146407, 4.776966162708479, 6.087184832180623, 6.1559508047091995, 5.514018705825685, 5.695009349257497, 5.910732044803997]\n",
    "\n",
    "FRB_dec_rad = [-0.08691739674931762, -0.6841690667817772, 0.10611601852125524, -0.4954989746411902, -0.5204571829447091, -0.0445058959258554, -0.06754424205218056, -0.9585348251952858, -0.6965609044709369, -0.33143802495372315, -0.054105206811824215, -0.2040289895581371, -0.8852309966115239, -0.06981317007977318, 0.060039326268604934, -0.11414453308042916, -1.4800392056911915, -0.3066543495754037, -0.01972222054753592, -0.755029434412747, 0.00027925268031909274, -0.20245819323134223]\n",
    "\n",
    "#FRB_time_window = np.ones_like(FRB_ra_rad)*dt/86400.\n",
    "\n",
    "Emin = 10**3\n",
    "Emax = 10**6.5"
   ]
  },
  {
   "cell_type": "code",
   "execution_count": 8,
   "metadata": {},
   "outputs": [
    {
     "name": "stdout",
     "output_type": "stream",
     "text": [
      "Starting Trials\n"
     ]
    }
   ],
   "source": [
    "print(\"Starting Trials\")\n",
    "\n",
    "##### Defining functions to compute flux ######    \n",
    "def ndarray_to_TSD(trials):\n",
    "    return cy.dists.TSD(cy.utils.Arrays(trials))\n",
    "\n",
    "def tsd_merge(x):\n",
    "    ts_values = np.concatenate([xx[0] for xx in x])\n",
    "    n_zero = sum(xx[1] for xx in x)\n",
    "    return cy.dists.TSD(ts_values, n_zero=n_zero)\n",
    "\n",
    "def find_n_sig(beta=0.9, nsigma=None):\n",
    "    # get signal trials, background distribution, and trial runner\n",
    "    sig_trials = cy.bk.get_best(sig, 'n_sig')\n",
    "    #b = cy.bk.get_best(bg) #, 'gamma', gamma, 'dt', dt)\n",
    "    b = bg\n",
    "    src = cy.sources(FRB_ra_rad, FRB_dec_rad, mjd = FRB_mjd_time, sigma_t = np.zeros_like(FRB_ra_rad), t_100 = FRB_time_window)\n",
    "    conf = {'extended':True, 'space':\"ps\",'time':\"transient\",'sig':\"transient\",'flux': cy.hyp.PowerLawFlux(gamma, energy_range=(Emin, Emax))}\n",
    "    tr = cy.get_trial_runner(conf, src = src, ana=ana)\n",
    "    # determine ts threshold\n",
    "    if nsigma is not None:\n",
    "        ts = b.isf_nsigma(nsigma)\n",
    "    else:\n",
    "        ts = b.median()\n",
    "    # include background trials in calculation\n",
    "    trials = {0: tr.get_many_fits(1000)}\n",
    "    trials.update(sig_trials)\n",
    "    # get number of signal events\n",
    "    # (arguments prevent additional trials from being run)\n",
    "    result = tr.find_n_sig(ts, beta, max_batch_size=0, logging=False, trials=trials, n_bootstrap=1)\n",
    "    # return flux\n",
    "    return tr.to_E2dNdE(result, E0=1e5)"
   ]
  },
  {
   "cell_type": "code",
   "execution_count": 9,
   "metadata": {},
   "outputs": [
    {
     "name": "stdout",
     "output_type": "stream",
     "text": [
      "0.01\n",
      "100 files loaded.                                                                 \n",
      "190 files loaded.                                                                                                       \n",
      "Performing 1000 background trials using 12.0 cores:\n",
      "       1000/1000 trials complete.   \n",
      "sens = 0.4944874718092778\n",
      "0.1\n",
      "100 files loaded.                                                                \n",
      "190 files loaded.                                                                                                      \n",
      "Performing 1000 background trials using 12.0 cores:\n",
      "       1000/1000 trials complete.   \n",
      "sens = 0.46549268779687436\n",
      "1.0\n",
      "100 files loaded.                                                                \n",
      "190 files loaded.                                                                                                      \n",
      "Performing 1000 background trials using 12.0 cores:\n",
      "       1000/1000 trials complete.   \n",
      "sens = 0.47625126852789007\n",
      "10.0\n",
      "1000 files loaded.                                                                 \n",
      "190 files loaded.                                                                                                       \n",
      "Performing 1000 background trials using 12.0 cores:\n",
      "       1000/1000 trials complete.   \n",
      "sens = 0.47535216556646304\n",
      "100.0\n",
      "1000 files loaded.                                                                  \n",
      "190 files loaded.                                                                                                        \n",
      "Performing 1000 background trials using 12.0 cores:\n",
      "       1000/1000 trials complete.   \n",
      "sens = 0.48961923614262925\n",
      "1000.0\n",
      "1000 files loaded.                                                                   \n",
      "190 files loaded.                                                                                                         \n",
      "Performing 1000 background trials using 12.0 cores:\n",
      "       1000/1000 trials complete.   \n",
      "sens = 0.49005881245236566\n",
      "10000.0\n",
      "500 files loaded.                                                                    \n",
      "190 files loaded.                                                                                                          \n",
      "Performing 1000 background trials using 12.0 cores:\n",
      "       1000/1000 trials complete.   \n",
      "sens = 0.4186962061327399\n",
      "100000.0\n",
      "500 files loaded.                                                                     \n",
      "190 files loaded.                                                                                                           \n",
      "Performing 1000 background trials using 12.0 cores:\n",
      "       1000/1000 trials complete.   \n",
      "sens = 0.4246039260856536\n"
     ]
    }
   ],
   "source": [
    "time_windows = [0.01, 0.1, 1.0, 10.0, 100.0, 1000.0, 10000.0, 100000.0]\n",
    "sens_gamma_2_plot = []\n",
    "for i in time_windows:\n",
    "    print(i)\n",
    "    fluxs_sens = []\n",
    "    dt = i\n",
    "    FRB_time_window = np.ones_like(FRB_ra_rad)*dt/86400.\n",
    "    gamma = 2.0\n",
    "    bg = cy.bk.get_all(\n",
    "    '/data/user/mkovacevich/FRB_analysis/trials/bg/dt/'+str(i)+'/',\n",
    "    'bg_trials_seed_*.0.npy',\n",
    "    pre_convert=lambda x: (x['ts'][x['ts'] > 0], np.sum(x['ts'] == 0)),\n",
    "    merge = tsd_merge,\n",
    "    log=True)\n",
    "    sig = cy.bk.get_all('/data/user/mkovacevich/FRB_analysis/trials/reduced_energy_range_sig/gamma/2.0/dt/'+str(i)+'/','sig*npy', merge=np.concatenate, post_convert=cy.utils.Arrays)\n",
    "    fluxs_sens = find_n_sig(beta=0.9)\n",
    "    sens_gamma_2_plot.append(fluxs_sens)\n",
    "    print('sens = ' + str(fluxs_sens))"
   ]
  },
  {
   "cell_type": "code",
   "execution_count": null,
   "metadata": {},
   "outputs": [],
   "source": [
    "#Sensivitity for gamma = 2 with no restricted energy range\n",
    "sens_plot = [0.42776688714680017, 0.42811340366870104, 0.4345044973793576, 0.4324263955864112, 0.43223290118101687, 0.4245982609723475, 0.3998979445747711,0.3985009152674313]"
   ]
  }
 ],
 "metadata": {
  "kernelspec": {
   "display_name": "Python 3",
   "language": "python",
   "name": "python3"
  },
  "language_info": {
   "codemirror_mode": {
    "name": "ipython",
    "version": 3
   },
   "file_extension": ".py",
   "mimetype": "text/x-python",
   "name": "python",
   "nbconvert_exporter": "python",
   "pygments_lexer": "ipython3",
   "version": "3.7.5"
  }
 },
 "nbformat": 4,
 "nbformat_minor": 4
}
